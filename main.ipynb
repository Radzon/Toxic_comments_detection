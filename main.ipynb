{
  "nbformat": 4,
  "nbformat_minor": 0,
  "metadata": {
    "colab": {
      "provenance": [],
      "authorship_tag": "ABX9TyMbyMTion2E6YbxI97Q80Kt",
      "include_colab_link": true
    },
    "kernelspec": {
      "name": "python3",
      "display_name": "Python 3"
    },
    "language_info": {
      "name": "python"
    }
  },
  "cells": [
    {
      "cell_type": "markdown",
      "metadata": {
        "id": "view-in-github",
        "colab_type": "text"
      },
      "source": [
        "<a href=\"https://colab.research.google.com/github/Radzon/Toxic_comments_detection/blob/main/main.ipynb\" target=\"_parent\"><img src=\"https://colab.research.google.com/assets/colab-badge.svg\" alt=\"Open In Colab\"/></a>"
      ]
    },
    {
      "cell_type": "code",
      "execution_count": 12,
      "metadata": {
        "colab": {
          "base_uri": "https://localhost:8080/"
        },
        "id": "9D3wAYBbODj9",
        "outputId": "b415dd87-ad12-410c-a003-0821dd44b9ed"
      },
      "outputs": [
        {
          "output_type": "stream",
          "name": "stderr",
          "text": [
            "[nltk_data] Downloading package punkt to /root/nltk_data...\n",
            "[nltk_data]   Package punkt is already up-to-date!\n",
            "[nltk_data] Downloading package stopwords to /root/nltk_data...\n",
            "[nltk_data]   Package stopwords is already up-to-date!\n"
          ]
        }
      ],
      "source": [
        "import lightgbm as lgb\n",
        "import pandas as pd\n",
        "from sklearn.feature_extraction.text import TfidfVectorizer\n",
        "from sklearn.model_selection import train_test_split\n",
        "from sklearn.utils import resample\n",
        "import nltk\n",
        "import string\n",
        "from nltk.corpus import stopwords\n",
        "from nltk.tokenize import word_tokenize\n",
        "from nltk.stem import SnowballStemmer\n",
        "nltk.download('punkt')\n",
        "nltk.download('stopwords')\n",
        "from sklearn.metrics import precision_score, recall_score, precision_recall_curve, classification_report\n",
        "from matplotlib import pyplot as plt"
      ]
    },
    {
      "cell_type": "code",
      "source": [
        "def load_and_process_data(filepath):\n",
        "    data = []\n",
        "    count = 0\n",
        "    with open(filepath, 'r', encoding='utf-8') as file:\n",
        "        for line in file:\n",
        "            parts = line.strip().split(' ', 1)\n",
        "            if len(parts) != 2:\n",
        "                continue\n",
        "            labels, text = parts\n",
        "            labels = labels.split(',')\n",
        "            if '__label__NORMAL' in labels:\n",
        "                data.append((text, 0))  # Нейтральный комментарий\n",
        "            else:\n",
        "                data.append((text, 1))  # Негативный комментарий\n",
        "            count += 1\n",
        "    print(count)\n",
        "    return pd.DataFrame(data, columns=['text', 'label'])"
      ],
      "metadata": {
        "id": "tZtKJNCeOwwj"
      },
      "execution_count": 13,
      "outputs": []
    },
    {
      "cell_type": "code",
      "source": [
        "filepath = './dataset.txt'\n",
        "df = load_and_process_data(filepath)"
      ],
      "metadata": {
        "colab": {
          "base_uri": "https://localhost:8080/"
        },
        "id": "AG50lgomR03g",
        "outputId": "91a23052-99e6-49d5-8f37-da1cdd4d62d7"
      },
      "execution_count": 14,
      "outputs": [
        {
          "output_type": "stream",
          "name": "stdout",
          "text": [
            "248290\n"
          ]
        }
      ]
    },
    {
      "cell_type": "code",
      "source": [
        "# Разделение данных на классы\n",
        "df_majority = df[df.label == 0]\n",
        "df_minority = df[df.label == 1]\n",
        "\n",
        "# Андерсемплирование большинства класса\n",
        "df_majority_downsampled = resample(df_majority,\n",
        "                                   replace=False,    # Замена не нужна\n",
        "                                   n_samples=len(df_minority),  # Чтобы количество совпадало с меньшинством\n",
        "                                   random_state=42)  # Для воспроизводимости\n",
        "\n",
        "# Объединение андерсемплированного большинства и меньшинства\n",
        "df_balanced = pd.concat([df_majority_downsampled, df_minority])"
      ],
      "metadata": {
        "id": "59CVmZew1jVw"
      },
      "execution_count": 15,
      "outputs": []
    },
    {
      "cell_type": "code",
      "source": [
        "df_balanced['label'].value_counts()"
      ],
      "metadata": {
        "colab": {
          "base_uri": "https://localhost:8080/"
        },
        "id": "qm0UIh00R-ug",
        "outputId": "0d84d668-fc5c-4ff5-cc62-1ab0ec48a8e7"
      },
      "execution_count": 24,
      "outputs": [
        {
          "output_type": "execute_result",
          "data": {
            "text/plain": [
              "label\n",
              "0    44605\n",
              "1    44605\n",
              "Name: count, dtype: int64"
            ]
          },
          "metadata": {},
          "execution_count": 24
        }
      ]
    },
    {
      "cell_type": "code",
      "source": [
        "X_train, X_test, y_train, y_test = train_test_split(df_balanced['text'],\n",
        "                                                    df_balanced['label'],\n",
        "                                                    test_size=0.2,\n",
        "                                                    stratify=df_balanced['label'])"
      ],
      "metadata": {
        "id": "SF6bvR2wTpv4"
      },
      "execution_count": 25,
      "outputs": []
    },
    {
      "cell_type": "code",
      "source": [
        "vectorizer = TfidfVectorizer(max_features=5000)\n",
        "X_train_tfidf = vectorizer.fit_transform(X_train)\n",
        "X_test_tfidf = vectorizer.transform(X_test)"
      ],
      "metadata": {
        "id": "yCXyoTJhVTBI"
      },
      "execution_count": 28,
      "outputs": []
    },
    {
      "cell_type": "code",
      "source": [
        "train_data = lgb.Dataset(X_train_tfidf, label=y_train)\n",
        "test_data = lgb.Dataset(X_test_tfidf, label=y_test, reference=train_data)"
      ],
      "metadata": {
        "id": "IMZtH7r4VdHP"
      },
      "execution_count": 29,
      "outputs": []
    },
    {
      "cell_type": "code",
      "source": [
        "num_negatives = (y_train == 0).sum()\n",
        "num_positives = (y_train == 1).sum()\n",
        "scale_pos_weight = num_negatives / num_positives"
      ],
      "metadata": {
        "id": "Sqtsgch2Z10B"
      },
      "execution_count": 30,
      "outputs": []
    },
    {
      "cell_type": "code",
      "source": [
        "params = {\n",
        "    'objective': 'binary',\n",
        "    'metric': 'binary_logloss',\n",
        "    'boosting_type': 'gbdt',\n",
        "    'verbosity': -1,\n",
        "    'scale_pos_weight': scale_pos_weight\n",
        "}"
      ],
      "metadata": {
        "id": "ot6q-on3VqE4"
      },
      "execution_count": 31,
      "outputs": []
    },
    {
      "cell_type": "code",
      "source": [
        "model = lgb.train(\n",
        "    params,\n",
        "    train_data,\n",
        "    num_boost_round=100,\n",
        "    valid_sets=[train_data, test_data],\n",
        "    callbacks=[\n",
        "        lgb.early_stopping(stopping_rounds=10),\n",
        "    ]\n",
        ")"
      ],
      "metadata": {
        "colab": {
          "base_uri": "https://localhost:8080/"
        },
        "id": "G3TlL4_8V1Lo",
        "outputId": "ea7f2321-1a76-4f6a-d4a4-6095f16385d7"
      },
      "execution_count": 32,
      "outputs": [
        {
          "output_type": "stream",
          "name": "stdout",
          "text": [
            "Training until validation scores don't improve for 10 rounds\n",
            "Did not meet early stopping. Best iteration is:\n",
            "[100]\ttraining's binary_logloss: 0.350545\tvalid_1's binary_logloss: 0.359851\n"
          ]
        }
      ]
    },
    {
      "cell_type": "code",
      "source": [
        "y_pred_proba = model.predict(X_test_tfidf)"
      ],
      "metadata": {
        "id": "brQCVJyBYV7g"
      },
      "execution_count": 33,
      "outputs": []
    },
    {
      "cell_type": "code",
      "source": [
        "optimal_threshold = 0.5\n",
        "for threshold in [i * 0.01 for i in range(100)]:\n",
        "    y_pred_custom = (y_pred_proba >= threshold).astype(int)\n",
        "    precision = precision_score(y_test, y_pred_custom)\n",
        "    if precision >= 0.95:\n",
        "        optimal_threshold = threshold\n",
        "        break"
      ],
      "metadata": {
        "id": "LOeK7-TZYhco"
      },
      "execution_count": 34,
      "outputs": []
    },
    {
      "cell_type": "code",
      "source": [
        "y_pred_custom = (y_pred_proba >= optimal_threshold).astype(int)\n",
        "recall = recall_score(y_test, y_pred_custom)\n",
        "precision = precision_score(y_test, y_pred_custom)"
      ],
      "metadata": {
        "id": "xukYFFK1YkTo"
      },
      "execution_count": 35,
      "outputs": []
    },
    {
      "cell_type": "code",
      "source": [
        "print(f\"Optimal Threshold: {optimal_threshold}\")\n",
        "print(f\"Precision: {precision}\")\n",
        "print(f\"Recall: {recall}\")\n",
        "print(classification_report(y_test, y_pred_custom))"
      ],
      "metadata": {
        "colab": {
          "base_uri": "https://localhost:8080/"
        },
        "id": "vpD1_4kZYpRg",
        "outputId": "6cb8bbe4-4211-4710-e0b3-36658d34cce0"
      },
      "execution_count": 36,
      "outputs": [
        {
          "output_type": "stream",
          "name": "stdout",
          "text": [
            "Optimal Threshold: 0.52\n",
            "Precision: 0.9510400452808829\n",
            "Recall: 0.7533908754623921\n",
            "              precision    recall  f1-score   support\n",
            "\n",
            "           0       0.80      0.96      0.87      8921\n",
            "           1       0.95      0.75      0.84      8921\n",
            "\n",
            "    accuracy                           0.86     17842\n",
            "   macro avg       0.87      0.86      0.86     17842\n",
            "weighted avg       0.87      0.86      0.86     17842\n",
            "\n"
          ]
        }
      ]
    }
  ]
}